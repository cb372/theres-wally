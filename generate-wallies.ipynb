{
 "cells": [
  {
   "cell_type": "code",
   "execution_count": 7,
   "metadata": {},
   "outputs": [],
   "source": [
    "import cv2\n",
    "import glob\n",
    "import os.path\n",
    "\n",
    "def multiply_image(name):\n",
    "    img = cv2.imread(\"./wallies-with-surroundings/{}.jpg\".format(name))\n",
    "    for y in range(0, 50):\n",
    "        start_y = y\n",
    "        end_y = y + 64 \n",
    "        for x in range(0, 20):\n",
    "            start_x = x * 64\n",
    "            end_x = (x+1) * 64\n",
    "            cropped_img = img[start_y:end_y, start_x:end_x]\n",
    "            cv2.imwrite(\"./wallies/{}-{}-{}.png\".format(name, y, x), cropped_img)\n",
    "           \n",
    "for path in glob.glob(\"./wallies-with-surroundings/*.jpg\"):\n",
    "    name = os.path.splitext(os.path.basename(path))[0]\n",
    "    multiply_image(name)\n"
   ]
  },
  {
   "cell_type": "code",
   "execution_count": null,
   "metadata": {},
   "outputs": [],
   "source": []
  }
 ],
 "metadata": {
  "kernelspec": {
   "display_name": "Python 2",
   "language": "python",
   "name": "python2"
  },
  "language_info": {
   "codemirror_mode": {
    "name": "ipython",
    "version": 2
   },
   "file_extension": ".py",
   "mimetype": "text/x-python",
   "name": "python",
   "nbconvert_exporter": "python",
   "pygments_lexer": "ipython2",
   "version": "2.7.14"
  }
 },
 "nbformat": 4,
 "nbformat_minor": 2
}

{
 "cells": [
  {
   "cell_type": "code",
   "execution_count": 1,
   "metadata": {},
   "outputs": [],
   "source": [
    "import glob \n",
    "import cv2\n",
    "import numpy as np"
   ]
  },
  {
   "cell_type": "code",
   "execution_count": 2,
   "metadata": {},
   "outputs": [],
   "source": [
    "wallies = glob.glob(\"./wallies/*.png\")\n",
    "non_wallies = glob.glob(\"./non-wallies/*.png\")\n",
    "\n",
    "Y = np.concatenate([np.ones(len(wallies)), np.zeros(len(non_wallies))-1])\n",
    "\n",
    "X = []\n",
    "for name in wallies:    \n",
    "    X.append(cv2.cvtColor(cv2.imread(name), cv2.COLOR_BGR2RGB))\n",
    "for name in non_wallies:    \n",
    "    X.append(cv2.cvtColor(cv2.imread(name), cv2.COLOR_BGR2RGB))\n",
    "X = np.array(X)"
   ]
  },
  {
   "cell_type": "code",
   "execution_count": 3,
   "metadata": {},
   "outputs": [
    {
     "name": "stdout",
     "output_type": "stream",
     "text": [
      "('X_train shape:', (3753, 64, 64, 3))\n",
      "(3753, 'train samples')\n",
      "(417, 'test samples')\n"
     ]
    }
   ],
   "source": [
    "from sklearn.model_selection import train_test_split\n",
    "X_train, X_test, Y_train, Y_test = train_test_split(X, Y, test_size=0.10, random_state=42)\n",
    "\n",
    "\n",
    "X_train = X_train.astype('float32')\n",
    "X_test = X_test.astype('float32')\n",
    "print('X_train shape:', X_train.shape)\n",
    "print(X_train.shape[0], 'train samples')\n",
    "print(X_test.shape[0], 'test samples')\n",
    "input_shape =  (3,64,64)"
   ]
  },
  {
   "cell_type": "code",
   "execution_count": 6,
   "metadata": {},
   "outputs": [
    {
     "name": "stdout",
     "output_type": "stream",
     "text": [
      "Train on 3753 samples, validate on 417 samples\n",
      "Epoch 1/20\n",
      "3753/3753 [==============================] - 12s 3ms/step - loss: 0.6747 - acc: 0.4119 - val_loss: 0.2879 - val_acc: 0.6619\n",
      "Epoch 2/20\n",
      "3753/3753 [==============================] - 11s 3ms/step - loss: 0.3248 - acc: 0.7295 - val_loss: 0.1530 - val_acc: 0.8921\n",
      "Epoch 3/20\n",
      "3753/3753 [==============================] - 11s 3ms/step - loss: 0.1795 - acc: 0.8516 - val_loss: 0.0887 - val_acc: 0.9424\n",
      "Epoch 4/20\n",
      "3753/3753 [==============================] - 11s 3ms/step - loss: 0.1224 - acc: 0.8982 - val_loss: 0.0523 - val_acc: 0.9688\n",
      "Epoch 5/20\n",
      "3753/3753 [==============================] - 11s 3ms/step - loss: 0.0879 - acc: 0.9241 - val_loss: 0.0297 - val_acc: 0.9784\n",
      "Epoch 6/20\n",
      "3753/3753 [==============================] - 11s 3ms/step - loss: 0.0647 - acc: 0.9475 - val_loss: 0.0202 - val_acc: 0.9856\n",
      "Epoch 7/20\n",
      "3753/3753 [==============================] - 12s 3ms/step - loss: 0.0443 - acc: 0.9662 - val_loss: 0.0154 - val_acc: 0.9952\n",
      "Epoch 8/20\n",
      "3753/3753 [==============================] - 12s 3ms/step - loss: 0.0356 - acc: 0.9718 - val_loss: 0.0086 - val_acc: 0.9952\n",
      "Epoch 9/20\n",
      "3753/3753 [==============================] - 11s 3ms/step - loss: 0.0270 - acc: 0.9784 - val_loss: 0.0145 - val_acc: 0.9904\n",
      "Epoch 10/20\n",
      "3753/3753 [==============================] - 12s 3ms/step - loss: 0.0217 - acc: 0.9816 - val_loss: 0.0059 - val_acc: 1.0000\n",
      "Epoch 11/20\n",
      "3753/3753 [==============================] - 12s 3ms/step - loss: 0.0164 - acc: 0.9872 - val_loss: 0.0048 - val_acc: 0.9928\n",
      "Epoch 12/20\n",
      "3753/3753 [==============================] - 12s 3ms/step - loss: 0.0123 - acc: 0.9891 - val_loss: 0.0022 - val_acc: 0.9976\n",
      "Epoch 13/20\n",
      "3753/3753 [==============================] - 12s 3ms/step - loss: 0.0103 - acc: 0.9901 - val_loss: 0.0017 - val_acc: 1.0000\n",
      "Epoch 14/20\n",
      "3753/3753 [==============================] - 12s 3ms/step - loss: 0.0086 - acc: 0.9928 - val_loss: 9.6922e-04 - val_acc: 1.0000\n",
      "Epoch 15/20\n",
      "3753/3753 [==============================] - 12s 3ms/step - loss: 0.0078 - acc: 0.9931 - val_loss: 8.3175e-04 - val_acc: 1.0000\n",
      "Epoch 16/20\n",
      "3753/3753 [==============================] - 11s 3ms/step - loss: 0.0062 - acc: 0.9939 - val_loss: 0.0020 - val_acc: 0.9976\n",
      "Epoch 17/20\n",
      "3753/3753 [==============================] - 12s 3ms/step - loss: 0.0074 - acc: 0.9933 - val_loss: 0.0037 - val_acc: 1.0000\n",
      "Epoch 18/20\n",
      "3753/3753 [==============================] - 11s 3ms/step - loss: 0.0041 - acc: 0.9965 - val_loss: 5.5665e-04 - val_acc: 1.0000\n",
      "Epoch 19/20\n",
      "3753/3753 [==============================] - 11s 3ms/step - loss: 0.0032 - acc: 0.9981 - val_loss: 0.0013 - val_acc: 1.0000\n",
      "Epoch 20/20\n",
      "3753/3753 [==============================] - 12s 3ms/step - loss: 0.0027 - acc: 0.9973 - val_loss: 6.0004e-04 - val_acc: 1.0000\n",
      "('Test score:', 0.00060003508588342641)\n",
      "('Test accuracy:', 1.0)\n"
     ]
    }
   ],
   "source": [
    "from keras.layers import Flatten\n",
    "\n",
    "from cnn import build_CNN\n",
    "\n",
    "model = build_CNN()\n",
    "model.add(Flatten())\n",
    "model.compile(loss='mse',optimizer='adadelta',metrics=['accuracy'])\n",
    "\n",
    "model.fit(X_train, Y_train, batch_size=128, epochs=20, verbose=1, validation_data=(X_test, Y_test))\n",
    "score = model.evaluate(X_test, Y_test, verbose=0)\n",
    "print('Test score:', score[0])\n",
    "print('Test accuracy:', score[1])\n",
    "model.save_weights(\"wally.h5\")"
   ]
  }
 ],
 "metadata": {
  "kernelspec": {
   "display_name": "Python 2",
   "language": "python",
   "name": "python2"
  },
  "language_info": {
   "codemirror_mode": {
    "name": "ipython",
    "version": 2
   },
   "file_extension": ".py",
   "mimetype": "text/x-python",
   "name": "python",
   "nbconvert_exporter": "python",
   "pygments_lexer": "ipython2",
   "version": "2.7.14"
  }
 },
 "nbformat": 4,
 "nbformat_minor": 2
}
